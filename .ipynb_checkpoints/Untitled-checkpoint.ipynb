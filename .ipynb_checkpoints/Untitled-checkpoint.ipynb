{
 "cells": [
  {
   "cell_type": "code",
   "execution_count": 6,
   "id": "1d406b1e",
   "metadata": {},
   "outputs": [
    {
     "data": {
      "text/plain": [
       "tensor([[-0.1669, -0.0473,  0.5885, -0.8862, -0.5157,  0.2891, -0.4345,  1.3230,\n",
       "          0.2820,  0.8644, -1.2757, -0.2285,  1.1136, -0.8934, -1.2652,  0.3654],\n",
       "        [-0.5855,  0.3464,  1.8003, -1.3382, -1.2957, -1.0438, -0.0992, -0.4859,\n",
       "         -1.7748,  0.3854,  0.2726,  1.8270, -1.2782, -0.5354,  0.0034,  1.2307],\n",
       "        [ 0.2887, -0.4154,  1.5056, -0.7593, -0.7480, -0.8024, -1.5914, -0.0667,\n",
       "          0.9645, -1.2054,  0.5404,  0.8001, -0.1923,  1.0654,  0.2782,  1.4426],\n",
       "        [ 1.0946,  0.6753, -2.2287,  0.2485,  0.8536,  1.0239,  0.6110,  0.2257,\n",
       "          0.9318, -0.8697,  0.5281, -0.4506, -0.0461, -0.5384,  0.3761,  0.9310],\n",
       "        [ 0.2900,  2.1492, -1.0349, -0.0615,  0.0347, -0.1406,  0.0428,  0.1775,\n",
       "          0.2853, -1.9481, -1.0853,  0.1922,  1.2761, -0.7316, -1.0369, -0.9912]],\n",
       "       grad_fn=<EmbeddingBackward0>)"
      ]
     },
     "execution_count": 6,
     "metadata": {},
     "output_type": "execute_result"
    }
   ],
   "source": [
    "import torch\n",
    "import torch.nn as nn\n",
    "\n",
    "import torch\n",
    "import torch.nn as nn\n",
    "\n",
    "# 假设有 100 个英雄，每个嵌入向量为 16 维\n",
    "num_heroes = 100\n",
    "embedding_dim = 16\n",
    "\n",
    "# 定义嵌入层\n",
    "hero_embedding = nn.Embedding(num_heroes, embedding_dim)\n",
    "\n",
    "# 英雄 ID 示例\n",
    "hero_ids = torch.tensor([1, 2, 3, 4, 5])  # 当前阵容中的英雄 ID\n",
    "\n",
    "# 嵌入向量\n",
    "embedded_heroes = hero_embedding(hero_ids)  # 输出形状：[5, 16]\n",
    "\n",
    "embedded_heroes"
   ]
  },
  {
   "cell_type": "code",
   "execution_count": 7,
   "id": "802e3874",
   "metadata": {},
   "outputs": [
    {
     "data": {
      "text/plain": [
       "device(type='cpu')"
      ]
     },
     "execution_count": 7,
     "metadata": {},
     "output_type": "execute_result"
    }
   ],
   "source": [
    "embedded_heroes.device"
   ]
  },
  {
   "cell_type": "code",
   "execution_count": 8,
   "id": "3dfd1ec8",
   "metadata": {},
   "outputs": [
    {
     "name": "stdout",
     "output_type": "stream",
     "text": [
      "0 1\n",
      "1 2\n"
     ]
    }
   ],
   "source": [
    "a = ['1', '2']\n",
    "for i, j in enumerate(a):\n",
    "    print(i, j)"
   ]
  },
  {
   "cell_type": "code",
   "execution_count": 12,
   "id": "ce81517c",
   "metadata": {},
   "outputs": [
    {
     "name": "stdout",
     "output_type": "stream",
     "text": [
      "tensor([[0.1000, 0.0000, 0.4000, 0.0000, 0.8000],\n",
      "        [0.0000, 0.2500, 0.0000, 0.2500, 0.9000]])\n"
     ]
    }
   ],
   "source": [
    "import torch\n",
    "\n",
    "# 假设 batch_size = 2, num_actions = 4\n",
    "action_probs = torch.tensor([[0.1, 0.3, 0.4, 0.2, 0.8],\n",
    "                             [0.25, 0.25, 0.25, 0.25, 0.9]], dtype=torch.float32)\n",
    "\n",
    "masks = torch.tensor([[1, 0, 1, 0, 1],\n",
    "                      [0, 1, 0, 1, 1]], dtype=torch.float32)\n",
    "\n",
    "# 逐元素相乘\n",
    "masked_action_probs = action_probs * masks\n",
    "\n",
    "print(masked_action_probs)\n",
    "# 输出：\n",
    "# tensor([[0.1000, 0.0000, 0.4000, 0.0000],\n",
    "#         [0.0000, 0.2500, 0.0000, 0.2500]])\n"
   ]
  },
  {
   "cell_type": "code",
   "execution_count": 13,
   "id": "a34bbc10",
   "metadata": {},
   "outputs": [
    {
     "data": {
      "text/plain": [
       "tensor([4, 4])"
      ]
     },
     "execution_count": 13,
     "metadata": {},
     "output_type": "execute_result"
    }
   ],
   "source": [
    "# 选择最大值及其索引\n",
    "max_values, max_indices = masked_action_probs.max(dim=1)\n",
    "max_indices"
   ]
  },
  {
   "cell_type": "code",
   "execution_count": 3,
   "id": "95516c60",
   "metadata": {},
   "outputs": [
    {
     "data": {
      "text/plain": [
       "b'\\x80\\x04\\x95\\x0e\\x00\\x00\\x00\\x00\\x00\\x00\\x00}\\x94(K\\x01KzK\\x03Mu\\ru.'"
      ]
     },
     "execution_count": 3,
     "metadata": {},
     "output_type": "execute_result"
    }
   ],
   "source": [
    "import json\n",
    "import pickle\n",
    "\n",
    "battle_data = {1:122, 3:3445}\n",
    "n_battle_data = json.dumps(battle_data)\n",
    "p_battle_data = pickle.dumps(battle_data)\n",
    "n_battle_data\n",
    "p_battle_data"
   ]
  },
  {
   "cell_type": "code",
   "execution_count": 2,
   "id": "123ac0da",
   "metadata": {},
   "outputs": [
    {
     "data": {
      "text/plain": [
       "{1: 122, 3: 3445}"
      ]
     },
     "execution_count": 2,
     "metadata": {},
     "output_type": "execute_result"
    }
   ],
   "source": [
    "battle_data"
   ]
  },
  {
   "cell_type": "code",
   "execution_count": null,
   "id": "e957502a",
   "metadata": {},
   "outputs": [],
   "source": []
  }
 ],
 "metadata": {
  "kernelspec": {
   "display_name": "Python [conda env:pytorch-gpu]",
   "language": "python",
   "name": "conda-env-pytorch-gpu-py"
  },
  "language_info": {
   "codemirror_mode": {
    "name": "ipython",
    "version": 3
   },
   "file_extension": ".py",
   "mimetype": "text/x-python",
   "name": "python",
   "nbconvert_exporter": "python",
   "pygments_lexer": "ipython3",
   "version": "3.8.8"
  },
  "toc": {
   "base_numbering": 1,
   "nav_menu": {},
   "number_sections": true,
   "sideBar": true,
   "skip_h1_title": false,
   "title_cell": "Table of Contents",
   "title_sidebar": "Contents",
   "toc_cell": false,
   "toc_position": {},
   "toc_section_display": true,
   "toc_window_display": false
  }
 },
 "nbformat": 4,
 "nbformat_minor": 5
}
