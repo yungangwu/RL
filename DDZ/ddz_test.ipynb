{
 "cells": [
  {
   "cell_type": "code",
   "execution_count": 1,
   "id": "994cb03e",
   "metadata": {},
   "outputs": [],
   "source": [
    "import rlcard\n",
    "import torch\n",
    "import pathlib\n",
    "import numpy\n",
    "import ray\n",
    "import models\n",
    "import ddz\n",
    "\n",
    "import self_play_test\n",
    "import time\n",
    "from rlcard.agents import RandomAgent\n",
    "from rlcard.utils import set_seed, tournament"
   ]
  },
  {
   "cell_type": "code",
   "execution_count": 2,
   "id": "4c828a5e",
   "metadata": {},
   "outputs": [],
   "source": [
    "config = ddz.MuZeroConfig()\n",
    "observation_shapes = config.observation_shapes\n",
    "configs = []\n",
    "for i in range(config.num_players):\n",
    "    config = ddz.MuZeroConfig()\n",
    "    config.observation_shape = observation_shapes[i]\n",
    "    configs.append(config)"
   ]
  },
  {
   "cell_type": "code",
   "execution_count": 3,
   "id": "2759e297",
   "metadata": {},
   "outputs": [
    {
     "name": "stderr",
     "output_type": "stream",
     "text": [
      "2022-10-13 11:52:48,332\tINFO worker.py:1515 -- Started a local Ray instance. View the dashboard at \u001b[1m\u001b[32mhttp://127.0.0.1:8266 \u001b[39m\u001b[22m\n"
     ]
    },
    {
     "data": {
      "text/html": [
       "<div>\n",
       "    <div style=\"margin-left: 50px;display: flex;flex-direction: row;align-items: center\">\n",
       "        <h3 style=\"color: var(--jp-ui-font-color0)\">Ray</h3>\n",
       "        <svg version=\"1.1\" id=\"ray\" width=\"3em\" viewBox=\"0 0 144.5 144.6\" style=\"margin-left: 3em;margin-right: 3em\">\n",
       "            <g id=\"layer-1\">\n",
       "                <path fill=\"#00a2e9\" class=\"st0\" d=\"M97.3,77.2c-3.8-1.1-6.2,0.9-8.3,5.1c-3.5,6.8-9.9,9.9-17.4,9.6S58,88.1,54.8,81.2c-1.4-3-3-4-6.3-4.1\n",
       "                    c-5.6-0.1-9.9,0.1-13.1,6.4c-3.8,7.6-13.6,10.2-21.8,7.6C5.2,88.4-0.4,80.5,0,71.7c0.1-8.4,5.7-15.8,13.8-18.2\n",
       "                    c8.4-2.6,17.5,0.7,22.3,8c1.3,1.9,1.3,5.2,3.6,5.6c3.9,0.6,8,0.2,12,0.2c1.8,0,1.9-1.6,2.4-2.8c3.5-7.8,9.7-11.8,18-11.9\n",
       "                    c8.2-0.1,14.4,3.9,17.8,11.4c1.3,2.8,2.9,3.6,5.7,3.3c1-0.1,2,0.1,3,0c2.8-0.5,6.4,1.7,8.1-2.7s-2.3-5.5-4.1-7.5\n",
       "                    c-5.1-5.7-10.9-10.8-16.1-16.3C84,38,81.9,37.1,78,38.3C66.7,42,56.2,35.7,53,24.1C50.3,14,57.3,2.8,67.7,0.5\n",
       "                    C78.4-2,89,4.7,91.5,15.3c0.1,0.3,0.1,0.5,0.2,0.8c0.7,3.4,0.7,6.9-0.8,9.8c-1.7,3.2-0.8,5,1.5,7.2c6.7,6.5,13.3,13,19.8,19.7\n",
       "                    c1.8,1.8,3,2.1,5.5,1.2c9.1-3.4,17.9-0.6,23.4,7c4.8,6.9,4.6,16.1-0.4,22.9c-5.4,7.2-14.2,9.9-23.1,6.5c-2.3-0.9-3.5-0.6-5.1,1.1\n",
       "                    c-6.7,6.9-13.6,13.7-20.5,20.4c-1.8,1.8-2.5,3.2-1.4,5.9c3.5,8.7,0.3,18.6-7.7,23.6c-7.9,5-18.2,3.8-24.8-2.9\n",
       "                    c-6.4-6.4-7.4-16.2-2.5-24.3c4.9-7.8,14.5-11,23.1-7.8c3,1.1,4.7,0.5,6.9-1.7C91.7,98.4,98,92.3,104.2,86c1.6-1.6,4.1-2.7,2.6-6.2\n",
       "                    c-1.4-3.3-3.8-2.5-6.2-2.6C99.8,77.2,98.9,77.2,97.3,77.2z M72.1,29.7c5.5,0.1,9.9-4.3,10-9.8c0-0.1,0-0.2,0-0.3\n",
       "                    C81.8,14,77,9.8,71.5,10.2c-5,0.3-9,4.2-9.3,9.2c-0.2,5.5,4,10.1,9.5,10.3C71.8,29.7,72,29.7,72.1,29.7z M72.3,62.3\n",
       "                    c-5.4-0.1-9.9,4.2-10.1,9.7c0,0.2,0,0.3,0,0.5c0.2,5.4,4.5,9.7,9.9,10c5.1,0.1,9.9-4.7,10.1-9.8c0.2-5.5-4-10-9.5-10.3\n",
       "                    C72.6,62.3,72.4,62.3,72.3,62.3z M115,72.5c0.1,5.4,4.5,9.7,9.8,9.9c5.6-0.2,10-4.8,10-10.4c-0.2-5.4-4.6-9.7-10-9.7\n",
       "                    c-5.3-0.1-9.8,4.2-9.9,9.5C115,72.1,115,72.3,115,72.5z M19.5,62.3c-5.4,0.1-9.8,4.4-10,9.8c-0.1,5.1,5.2,10.4,10.2,10.3\n",
       "                    c5.6-0.2,10-4.9,9.8-10.5c-0.1-5.4-4.5-9.7-9.9-9.6C19.6,62.3,19.5,62.3,19.5,62.3z M71.8,134.6c5.9,0.2,10.3-3.9,10.4-9.6\n",
       "                    c0.5-5.5-3.6-10.4-9.1-10.8c-5.5-0.5-10.4,3.6-10.8,9.1c0,0.5,0,0.9,0,1.4c-0.2,5.3,4,9.8,9.3,10\n",
       "                    C71.6,134.6,71.7,134.6,71.8,134.6z\"/>\n",
       "            </g>\n",
       "        </svg>\n",
       "        <table>\n",
       "            <tr>\n",
       "                <td style=\"text-align: left\"><b>Python version:</b></td>\n",
       "                <td style=\"text-align: left\"><b>3.7.13</b></td>\n",
       "            </tr>\n",
       "            <tr>\n",
       "                <td style=\"text-align: left\"><b>Ray version:</b></td>\n",
       "                <td style=\"text-align: left\"><b> 2.0.0</b></td>\n",
       "            </tr>\n",
       "            <tr>\n",
       "    <td style=\"text-align: left\"><b>Dashboard:</b></td>\n",
       "    <td style=\"text-align: left\"><b><a href=\"http://127.0.0.1:8266\" target=\"_blank\">http://127.0.0.1:8266</a></b></td>\n",
       "</tr>\n",
       "\n",
       "        </table>\n",
       "    </div>\n",
       "</div>\n"
      ],
      "text/plain": [
       "RayContext(dashboard_url='127.0.0.1:8266', python_version='3.7.13', ray_version='2.0.0', ray_commit='cba26cc83f6b5b8a2ff166594a65cb74c0ec8740', address_info={'node_ip_address': '172.19.104.223', 'raylet_ip_address': '172.19.104.223', 'redis_address': None, 'object_store_address': '/tmp/ray/session_2022-10-13_11-52-45_663817_22494/sockets/plasma_store', 'raylet_socket_name': '/tmp/ray/session_2022-10-13_11-52-45_663817_22494/sockets/raylet', 'webui_url': '127.0.0.1:8266', 'session_dir': '/tmp/ray/session_2022-10-13_11-52-45_663817_22494', 'metrics_export_port': 63010, 'gcs_address': '172.19.104.223:40323', 'address': '172.19.104.223:40323', 'dashboard_agent_listen_port': 52365, 'node_id': '5c47c01cb15249869ba94440db34cc2ebb7809170a5b370821a553f8'})"
      ]
     },
     "execution_count": 3,
     "metadata": {},
     "output_type": "execute_result"
    }
   ],
   "source": [
    "agents = []\n",
    "for i in range(config.num_players):\n",
    "    model = models.MuZeroNetwork(configs[i])\n",
    "    model = model.cuda()\n",
    "    model.eval()\n",
    "    agents.append(model)\n",
    "\n",
    "ray.init(num_gpus=1.0, ignore_reinit_error=True)"
   ]
  },
  {
   "cell_type": "code",
   "execution_count": 4,
   "id": "cd06c3bc",
   "metadata": {},
   "outputs": [],
   "source": [
    "landlord_paths = '/home/yg/code/Muzero//muzero/results/test_ddz/new/model0.checkpoint'\n",
    "farmer0_paths = '/home/yg/code/Muzero/muzero/results/test_ddz/new/model1.checkpoint'\n",
    "farmer1_paths = '/home/yg/code/Muzero/muzero/results/test_ddz/new/model2.checkpoint'\n",
    "\n",
    "models_paths = [landlord_paths,farmer0_paths,farmer1_paths]\n",
    "# map_location = torch.device('cpu')\n",
    "for i in range(3):\n",
    "    model_path = pathlib.Path(models_paths[i])\n",
    "    model_checkpoint = torch.load(model_path)\n",
    "    agents[i].set_weights(model_checkpoint['weights'])"
   ]
  },
  {
   "cell_type": "code",
   "execution_count": 5,
   "id": "f45cc9a4",
   "metadata": {},
   "outputs": [],
   "source": [
    "def setup_seed(seed):\n",
    "     torch.manual_seed(seed)\n",
    "     torch.cuda.manual_seed_all(seed)\n",
    "     numpy.random.seed(seed)\n",
    "     torch.backends.cudnn.deterministic = True"
   ]
  },
  {
   "cell_type": "code",
   "execution_count": 6,
   "id": "6455fb6b",
   "metadata": {},
   "outputs": [
    {
     "name": "stdout",
     "output_type": "stream",
     "text": [
      "set_seed------------\n"
     ]
    }
   ],
   "source": [
    "seed = 42\n",
    "setup_seed(seed)\n",
    "num_test = 100\n",
    "env = ddz.Game(seed)\n",
    "env.set_agents(agents)"
   ]
  },
  {
   "cell_type": "code",
   "execution_count": null,
   "id": "271e133e",
   "metadata": {
    "scrolled": false
   },
   "outputs": [
    {
     "name": "stdout",
     "output_type": "stream",
     "text": [
      "time 53.270206689834595 0\n",
      "\u001b[2m\u001b[36m(SelfPlayTest pid=24815)\u001b[0m {'hand_cards_with_suit': ['', 'H4 S4 C6 H6 S7 DT CT ST CJ SJ CQ BJ', 'C3 D3 C4 D5 S6 C7 H7 H8 C9 S9 HT DJ CK HK DA C2 D2'], 'hand_cards': ['', '44667TTTJJQB', '3345677899TJKKA22'], 'trace': [(0, 'AAA2'), (1, 'pass'), (2, 'pass'), (0, '5888'), (1, 'pass'), (2, 'pass'), (0, '55'), (1, 'QQ'), (2, 'pass'), (0, 'pass'), (1, '3'), (2, 'pass'), (0, 'R'), (1, 'pass'), (2, 'pass'), (0, 'J'), (1, 'K'), (2, 'pass'), (0, 'pass'), (1, '6'), (2, 'pass'), (0, 'K'), (1, 'pass'), (2, 'pass'), (0, '4'), (1, 'pass'), (2, 'pass'), (0, '3'), (1, 'pass'), (2, 'pass'), (0, '99'), (1, 'pass'), (2, 'pass'), (0, 'Q'), (1, 'pass'), (2, 'pass'), (0, '2'), (1, 'pass'), (2, 'pass'), (0, '7')], 'current_player': 1, 'legal_actions': []}\n",
      "\u001b[2m\u001b[36m(SelfPlayTest pid=24815)\u001b[0m [1 0 0]\n",
      "time 40.60608768463135 1\n",
      "\u001b[2m\u001b[36m(SelfPlayTest pid=24815)\u001b[0m {'hand_cards_with_suit': ['', 'D3 C4 H5 C5 S5 C6 S7 C7 C9 HT SQ HK SK DA SA D2', 'C3 S3 H4 S4 D5 S6 H7 S8 D8 DT SJ CK DK CA HA'], 'hand_cards': ['', '345556779TQKKAA2', '334456788TJKKAA'], 'trace': [(0, '999Q'), (1, 'pass'), (2, 'pass'), (0, '4222'), (1, 'pass'), (2, 'pass'), (0, '7'), (1, 'pass'), (2, 'pass'), (0, 'T'), (1, 'J'), (2, 'pass'), (0, 'B'), (1, 'pass'), (2, 'pass'), (0, '8'), (1, 'pass'), (2, 'pass'), (0, '3'), (1, 'pass'), (2, 'Q'), (0, 'pass'), (1, 'pass'), (2, 'Q'), (0, 'R'), (1, 'pass'), (2, 'pass'), (0, '8'), (1, 'pass'), (2, 'pass'), (0, 'JJ'), (1, 'pass'), (2, 'pass'), (0, '66'), (1, 'pass'), (2, 'pass'), (0, 'T')], 'current_player': 1, 'legal_actions': []}\n",
      "\u001b[2m\u001b[36m(SelfPlayTest pid=24815)\u001b[0m [1 0 0]\n",
      "time 42.72022485733032 2\n",
      "\u001b[2m\u001b[36m(SelfPlayTest pid=24815)\u001b[0m {'hand_cards_with_suit': ['S7 D9', '', 'C3 D3 C5 H6 H7 C8 H9 C9 S9 DK SK HK C2 S2'], 'hand_cards': ['79', '', '335678999KKK22'], 'trace': [(0, 'J'), (1, 'TTTT'), (2, 'pass'), (0, 'pass'), (1, 'J'), (2, 'pass'), (0, 'R'), (1, 'pass'), (2, 'pass'), (0, '6'), (1, '7'), (2, 'pass'), (0, '2'), (1, 'pass'), (2, 'pass'), (0, '44'), (1, '66'), (2, 'pass'), (0, '88'), (1, 'pass'), (2, 'pass'), (0, '4'), (1, 'pass'), (2, 'Q'), (0, 'A'), (1, 'pass'), (2, 'pass'), (0, '55'), (1, 'QQ'), (2, 'pass'), (0, 'pass'), (1, '8'), (2, 'pass'), (0, 'pass'), (1, '5'), (2, 'A'), (0, 'pass'), (1, '2'), (2, 'pass'), (0, 'pass'), (1, 'A'), (2, 'pass'), (0, 'pass'), (1, '3'), (2, 'Q'), (0, 'K'), (1, 'pass'), (2, 'pass'), (0, 'JJ'), (1, 'pass'), (2, 'pass'), (0, '3'), (1, 'pass'), (2, 'pass'), (0, '7'), (1, 'pass'), (2, 'pass'), (0, 'A'), (1, 'B'), (2, 'pass'), (0, 'pass'), (1, '4')], 'current_player': 2, 'legal_actions': []}\n",
      "\u001b[2m\u001b[36m(SelfPlayTest pid=24815)\u001b[0m [0 1 1]\n",
      "\u001b[2m\u001b[36m(SelfPlayTest pid=24815)\u001b[0m {'hand_cards_with_suit': ['', 'H4 C4 C7 CQ', 'D3 S4 D4 S5 C6 D7 S8 C8 C9 DT CJ SJ CK SK HA C2 BJ'], 'hand_cards': ['', '447Q', '344567889TJJKKA2B'], 'trace': [(0, 'Q'), (1, 'A'), (2, 'pass'), (0, 'pass'), (1, '3'), (2, 'pass'), (0, '9'), (1, 'J'), (2, 'pass'), (0, 'Q'), (1, 'R'), (2, 'pass'), (0, 'pass'), (1, 'J'), (2, 'pass'), (0, 'pass'), (1, '3222'), (2, 'pass'), (0, 'pass'), (1, '6'), (2, 'pass'), (0, 'pass'), (1, 'K'), (2, 'pass'), (0, 'pass'), (1, 'T'), (2, 'pass'), (0, 'A'), (1, 'pass'), (2, 'pass'), (0, '55577'), (1, 'pass'), (2, 'pass'), (0, '8'), (1, 'pass'), (2, 'pass'), (0, 'T'), (1, 'pass'), (2, 'pass'), (0, '8'), (1, '9'), (2, 'pass'), (0, 'Q'), (1, 'pass'), (2, 'pass'), (0, '3'), (1, 'pass'), (2, 'pass'), (0, '9'), (1, 'pass'), (2, 'pass'), (0, 'K'), (1, 'pass'), (2, 'pass'), (0, '66'), (1, 'pass'), (2, 'pass'), (0, 'A'), (1, 'pass'), (2, 'pass'), (0, 'T')], 'current_player': 1, 'legal_actions': []}\n",
      "\u001b[2m\u001b[36m(SelfPlayTest pid=24815)\u001b[0m [1 0 0]\n",
      "time 53.880626916885376 3\n",
      "\u001b[2m\u001b[36m(SelfPlayTest pid=24815)\u001b[0m {'hand_cards_with_suit': ['', 'S6 H9 C2', 'D4 H4 C4 C5 C6 D8 C8 DJ SK HK'], 'hand_cards': ['', '692', '4445688JKK'], 'trace': [(0, '777792'), (1, 'pass'), (2, 'pass'), (0, '8'), (1, 'J'), (2, 'pass'), (0, 'R'), (1, 'pass'), (2, 'pass'), (0, 'J'), (1, 'pass'), (2, 'pass'), (0, '8'), (1, 'pass'), (2, 'pass'), (0, '5'), (1, 'pass'), (2, 'pass'), (0, 'AA'), (1, '22'), (2, 'pass'), (0, 'pass'), (1, '3'), (2, 'Q'), (0, 'pass'), (1, 'pass'), (2, 'T'), (0, 'Q'), (1, 'A'), (2, 'pass'), (0, 'pass'), (1, '5'), (2, 'pass'), (0, 'T'), (1, 'K'), (2, 'pass'), (0, 'pass'), (1, '3'), (2, 'pass'), (0, 'T'), (1, 'K'), (2, 'pass'), (0, 'pass'), (1, '5'), (2, 'A'), (0, 'pass'), (1, 'pass'), (2, '6'), (0, 'pass'), (1, 'pass'), (2, 'B'), (0, 'pass'), (1, 'pass'), (2, 'J'), (0, 'pass'), (1, 'pass'), (2, '6'), (0, '9'), (1, 'T'), (2, 'pass'), (0, 'pass'), (1, 'QQ'), (2, 'pass'), (0, 'pass'), (1, '3'), (2, 'pass'), (0, '4'), (1, 'pass'), (2, 'pass'), (0, '3'), (1, 'pass'), (2, 'pass'), (0, '9')], 'current_player': 1, 'legal_actions': []}\n",
      "\u001b[2m\u001b[36m(SelfPlayTest pid=24815)\u001b[0m [1 0 0]\n",
      "time 82.6047523021698 4\n",
      "time 37.44351291656494 5\n",
      "\u001b[2m\u001b[36m(SelfPlayTest pid=24815)\u001b[0m {'hand_cards_with_suit': ['', 'S4 C5 HT CT SQ C2 H2', 'H4 D4 C4 D6 S8 H9 S9 D9 ST HJ CJ DQ CK HK'], 'hand_cards': ['', '45TTQ22', '44468999TJJQKK'], 'trace': [(0, '555K'), (1, 'pass'), (2, 'pass'), (0, '3336'), (1, '6777'), (2, 'pass'), (0, 'pass'), (1, 'J'), (2, 'pass'), (0, 'A'), (1, 'B'), (2, 'pass'), (0, 'pass'), (1, '3'), (2, 'J'), (0, 'pass'), (1, 'pass'), (2, 'Q'), (0, 'K'), (1, 'A'), (2, 'pass'), (0, 'R'), (1, 'pass'), (2, 'pass'), (0, '7'), (1, 'pass'), (2, 'A'), (0, '2'), (1, 'pass'), (2, 'pass'), (0, '2'), (1, 'pass'), (2, 'pass'), (0, 'T'), (1, 'A'), (2, 'pass'), (0, 'pass'), (1, '8'), (2, 'pass'), (0, '9'), (1, 'pass'), (2, 'pass'), (0, '88'), (1, 'pass'), (2, 'pass'), (0, '6'), (1, 'pass'), (2, 'pass'), (0, 'Q')], 'current_player': 1, 'legal_actions': []}\n",
      "\u001b[2m\u001b[36m(SelfPlayTest pid=24815)\u001b[0m [1 0 0]\n",
      "time\u001b[2m\u001b[36m(SelfPlayTest pid=24815)\u001b[0m {'hand_cards_with_suit': ['', 'S3 H3 C4 H4 S7 S8 H8 C9 ST CT HT DQ D2 S2', 'D3 C3 S4 S5 D6 H6 D7 C7 D8 D9 DT CJ HQ DK HA C2 H2'], 'hand_cards': ['', '33447889TTTQ22', '3345667789TJQKA22'], 'trace': [(0, 'JJ'), (1, 'pass'), (2, 'pass'), (0, '9'), (1, 'J'), (2, 'pass'), (0, 'B'), (1, 'pass'), (2, 'pass'), (0, '6KKK'), (1, 'pass'), (2, 'pass'), (0, '55'), (1, 'pass'), (2, 'pass'), (0, '7'), (1, 'A'), (2, 'pass'), (0, 'R'), (1, 'pass'), (2, 'pass'), (0, '9'), (1, 'pass'), (2, 'pass'), (0, 'AA'), (1, 'pass'), (2, 'pass'), (0, '4'), (1, '5'), (2, 'pass'), (0, '6'), (1, 'pass'), (2, 'pass'), (0, 'QQ'), (1, 'pass'), (2, 'pass'), (0, '8')], 'current_player': 1, 'legal_actions': []}\n",
      "\u001b[2m\u001b[36m(SelfPlayTest pid=24815)\u001b[0m [1 0 0]\n",
      " 21.74906826019287 6\n"
     ]
    }
   ],
   "source": [
    "self_play_worker = self_play_test.SelfPlayTest.options(\n",
    "                            num_cpus=0,\n",
    "                            num_gpus=1.0,\n",
    "                        ).remote(env, config, configs, seed, agents)\n",
    "\n",
    "results = []\n",
    "for i in range(num_test):\n",
    "    start_time = time.time()\n",
    "    results.append(\n",
    "        ray.get(\n",
    "            self_play_worker.play_game.remote(\n",
    "                0,\n",
    "                0,\n",
    "                False,\n",
    "                \"self\",\n",
    "                0,\n",
    "            )\n",
    "        )\n",
    "    )\n",
    "    end_time = time.time()\n",
    "    print('time',end_time-start_time, i)"
   ]
  },
  {
   "cell_type": "code",
   "execution_count": null,
   "id": "07ae34c1",
   "metadata": {},
   "outputs": [],
   "source": [
    "res_last = []\n",
    "result = [[],[],[]]\n",
    "for game_historys in results:\n",
    "    for i in range(3):\n",
    "        result[i].append(\n",
    "            sum(\n",
    "                reward\n",
    "                for k, reward in enumerate(game_historys[i].reward_history)\n",
    "            )\n",
    "        )"
   ]
  },
  {
   "cell_type": "code",
   "execution_count": null,
   "id": "303548fc",
   "metadata": {},
   "outputs": [],
   "source": [
    "for i in range(3):\n",
    "    res_last.append(numpy.mean(result[i]))\n",
    "\n",
    "print(res_last)"
   ]
  },
  {
   "cell_type": "code",
   "execution_count": null,
   "id": "04ec3f22",
   "metadata": {},
   "outputs": [],
   "source": []
  },
  {
   "cell_type": "code",
   "execution_count": null,
   "id": "fa377a53",
   "metadata": {},
   "outputs": [],
   "source": []
  }
 ],
 "metadata": {
  "kernelspec": {
   "display_name": "Python [conda env:muzero]",
   "language": "python",
   "name": "conda-env-muzero-py"
  },
  "language_info": {
   "codemirror_mode": {
    "name": "ipython",
    "version": 3
   },
   "file_extension": ".py",
   "mimetype": "text/x-python",
   "name": "python",
   "nbconvert_exporter": "python",
   "pygments_lexer": "ipython3",
   "version": "3.7.13"
  },
  "toc": {
   "base_numbering": 1,
   "nav_menu": {},
   "number_sections": true,
   "sideBar": true,
   "skip_h1_title": false,
   "title_cell": "Table of Contents",
   "title_sidebar": "Contents",
   "toc_cell": false,
   "toc_position": {},
   "toc_section_display": true,
   "toc_window_display": false
  }
 },
 "nbformat": 4,
 "nbformat_minor": 5
}
