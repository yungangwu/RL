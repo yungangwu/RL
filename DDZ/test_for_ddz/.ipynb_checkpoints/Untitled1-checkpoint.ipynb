{
 "cells": [
  {
   "cell_type": "code",
   "execution_count": 1,
   "id": "c48b29a7",
   "metadata": {},
   "outputs": [],
   "source": [
    "import rlcard\n",
    "import torch\n",
    "import pathlib\n",
    "import numpy\n",
    "import ray\n",
    "import models\n",
    "import ddz\n",
    "\n",
    "import self_play_test\n",
    "import time\n",
    "from rlcard.agents import RandomAgent\n",
    "from rlcard.utils import set_seed, tournament"
   ]
  },
  {
   "cell_type": "code",
   "execution_count": 2,
   "id": "057183f1",
   "metadata": {},
   "outputs": [],
   "source": [
    "config = ddz.MuZeroConfig()\n",
    "observation_shapes = config.observation_shapes\n",
    "configs = []\n",
    "for i in range(config.num_players):\n",
    "    config = ddz.MuZeroConfig()\n",
    "    config.observation_shape = observation_shapes[i]\n",
    "    configs.append(config)"
   ]
  },
  {
   "cell_type": "code",
   "execution_count": 3,
   "id": "bcc03f9a",
   "metadata": {},
   "outputs": [],
   "source": [
    "agents = []\n",
    "for i in range(config.num_players):\n",
    "    model = models.MuZeroNetwork(configs[i])\n",
    "#     model = model.cuda()\n",
    "    model.eval()\n",
    "    agents.append(model)\n"
   ]
  },
  {
   "cell_type": "code",
   "execution_count": 4,
   "id": "c9c0b481",
   "metadata": {},
   "outputs": [
    {
     "name": "stdout",
     "output_type": "stream",
     "text": [
      "set_seed------------\n",
      "{'hand_cards_with_suit': ['D4', 'C6 H6 CJ SJ', ''], 'hand_cards': ['4', '66JJ', ''], 'trace': [(0, 'AAA2'), (1, 'pass'), (2, 'pass'), (0, '5888'), (1, '3TTT'), (2, 'pass'), (0, 'pass'), (1, 'QQ'), (2, 'KK'), (0, 'pass'), (1, 'pass'), (2, '6'), (0, 'R'), (1, 'pass'), (2, 'pass'), (0, '55'), (1, 'pass'), (2, 'pass'), (0, '2'), (1, 'pass'), (2, 'pass'), (0, '9'), (1, 'Q'), (2, 'A'), (0, 'pass'), (1, 'B'), (2, 'pass'), (0, 'pass'), (1, '6'), (2, '8'), (0, 'J'), (1, 'pass'), (2, 'pass'), (0, 'Q'), (1, 'pass'), (2, '2'), (0, 'pass'), (1, 'pass'), (2, '4'), (0, '9'), (1, 'pass'), (2, 'J'), (0, 'K'), (1, 'pass'), (2, '2'), (0, 'pass'), (1, 'pass'), (2, '7'), (0, 'pass'), (1, 'pass'), (2, '99'), (0, 'pass'), (1, 'pass'), (2, '3'), (0, 'pass'), (1, '7'), (2, 'T'), (0, 'pass'), (1, 'K'), (2, 'pass'), (0, 'pass'), (1, '4'), (2, '5'), (0, 'pass'), (1, 'pass'), (2, '3'), (0, '7'), (1, 'pass'), (2, 'pass'), (0, '3'), (1, '4'), (2, '7')], 'current_player': 0, 'legal_actions': []}\n",
      "[0 1 1]\n",
      "time 17.78894853591919 0\n",
      "{'hand_cards_with_suit': ['', 'C6 S7 C7 HT', 'S4 D5 H7 D8 SJ CQ HQ CK DK'], 'hand_cards': ['', '677T', '4578JQQKK'], 'trace': [(0, '3999'), (1, 'pass'), (2, 'pass'), (0, 'B'), (1, 'pass'), (2, 'pass'), (0, 'Q'), (1, 'A'), (2, 'pass'), (0, 'pass'), (1, 'Q'), (2, 'A'), (0, '2'), (1, 'pass'), (2, 'pass'), (0, '66'), (1, 'pass'), (2, 'pass'), (0, '7'), (1, '9'), (2, 'A'), (0, 'pass'), (1, '2'), (2, 'pass'), (0, 'pass'), (1, '3'), (2, '4'), (0, 'J'), (1, 'A'), (2, 'pass'), (0, '2'), (1, 'pass'), (2, 'pass'), (0, 'J'), (1, 'K'), (2, 'pass'), (0, '2'), (1, 'pass'), (2, 'pass'), (0, 'TT'), (1, 'pass'), (2, 'pass'), (0, '8'), (1, 'pass'), (2, 'pass'), (0, '8'), (1, 'pass'), (2, 'T'), (0, 'pass'), (1, 'pass'), (2, '3'), (0, 'pass'), (1, 'pass'), (2, '3'), (0, '4'), (1, 'pass'), (2, '6'), (0, 'pass'), (1, 'K'), (2, 'pass'), (0, 'pass'), (1, '555J'), (2, 'pass'), (0, 'pass'), (1, '4'), (2, '8'), (0, 'R')], 'current_player': 1, 'legal_actions': []}\n",
      "[1 0 0]\n",
      "time 18.461206197738647 1\n",
      "{'hand_cards_with_suit': ['', 'S3 S8 DT HJ', 'C5 H7 C9 S9 SQ CQ HK S2'], 'hand_cards': ['', '38TJ', '5799QQK2'], 'trace': [(0, '444AA'), (1, '66TTT'), (2, 'pass'), (0, '55JJJ'), (1, 'pass'), (2, 'pass'), (0, '77'), (1, 'QQ'), (2, 'KK'), (0, 'pass'), (1, 'pass'), (2, '3'), (0, '6'), (1, '7'), (2, '8'), (0, '9'), (1, 'A'), (2, '2'), (0, 'pass'), (1, 'B'), (2, 'pass'), (0, 'pass'), (1, '5'), (2, '6'), (0, '8'), (1, '2'), (2, 'pass'), (0, 'R'), (1, 'pass'), (2, 'pass'), (0, '3'), (1, '4'), (2, '9'), (0, '2'), (1, 'pass'), (2, 'pass'), (0, '8'), (1, 'pass'), (2, 'A'), (0, 'pass'), (1, 'pass'), (2, '3'), (0, 'K')], 'current_player': 1, 'legal_actions': []}\n",
      "[1 0 0]\n",
      "time 16.31151270866394 2\n",
      "{'hand_cards_with_suit': ['', 'C4', 'D7'], 'hand_cards': ['', '4', '7'], 'trace': [(0, 'T'), (1, 'Q'), (2, 'A'), (0, 'pass'), (1, 'R'), (2, 'pass'), (0, 'pass'), (1, '3'), (2, '6'), (0, 'A'), (1, '2'), (2, 'B'), (0, 'pass'), (1, 'pass'), (2, '4'), (0, '7'), (1, '9'), (2, 'J'), (0, 'A'), (1, '2'), (2, 'pass'), (0, 'pass'), (1, '3'), (2, '8'), (0, 'Q'), (1, 'K'), (2, 'pass'), (0, 'pass'), (1, '7'), (2, '8'), (0, 'Q'), (1, 'pass'), (2, 'pass'), (0, '3555'), (1, 'pass'), (2, 'pass'), (0, '99'), (1, 'pass'), (2, 'pass'), (0, 'Q'), (1, 'A'), (2, '2'), (0, 'pass'), (1, 'pass'), (2, 'J'), (0, 'pass'), (1, '2'), (2, 'pass'), (0, 'pass'), (1, '6'), (2, 'K'), (0, 'pass'), (1, 'pass'), (2, 'T'), (0, 'pass'), (1, 'pass'), (2, '9'), (0, 'pass'), (1, 'pass'), (2, '4'), (0, 'T'), (1, 'pass'), (2, 'K'), (0, 'pass'), (1, 'pass'), (2, '3'), (0, '8'), (1, 'T'), (2, 'pass'), (0, 'K'), (1, 'pass'), (2, 'pass'), (0, '66'), (1, 'JJ'), (2, 'pass'), (0, 'pass'), (1, '4'), (2, '5'), (0, '8'), (1, 'pass'), (2, 'pass'), (0, '7')], 'current_player': 1, 'legal_actions': []}\n",
      "[1 0 0]\n",
      "time 23.26220154762268 3\n"
     ]
    },
    {
     "ename": "KeyboardInterrupt",
     "evalue": "",
     "output_type": "error",
     "traceback": [
      "\u001b[0;31m---------------------------------------------------------------------------\u001b[0m",
      "\u001b[0;31mKeyboardInterrupt\u001b[0m                         Traceback (most recent call last)",
      "\u001b[0;32m/tmp/ipykernel_582/2075071121.py\u001b[0m in \u001b[0;36m<module>\u001b[0;34m\u001b[0m\n\u001b[1;32m     45\u001b[0m                     \u001b[0;32mFalse\u001b[0m\u001b[0;34m,\u001b[0m\u001b[0;34m\u001b[0m\u001b[0;34m\u001b[0m\u001b[0m\n\u001b[1;32m     46\u001b[0m                     \u001b[0;34m\"self\"\u001b[0m\u001b[0;34m,\u001b[0m\u001b[0;34m\u001b[0m\u001b[0;34m\u001b[0m\u001b[0m\n\u001b[0;32m---> 47\u001b[0;31m                     \u001b[0;36m0\u001b[0m\u001b[0;34m,\u001b[0m\u001b[0;34m\u001b[0m\u001b[0;34m\u001b[0m\u001b[0m\n\u001b[0m\u001b[1;32m     48\u001b[0m                 )\n\u001b[1;32m     49\u001b[0m         )\n",
      "\u001b[0;32m~/code/test/DDZ/test for ddz/self_play_test.py\u001b[0m in \u001b[0;36mplay_game\u001b[0;34m(self, temperature, temperature_threshold, render, opponent, muzero_player)\u001b[0m\n\u001b[1;32m     84\u001b[0m                         \u001b[0mself\u001b[0m\u001b[0;34m.\u001b[0m\u001b[0mgame\u001b[0m\u001b[0;34m.\u001b[0m\u001b[0mto_play\u001b[0m\u001b[0;34m(\u001b[0m\u001b[0;34m)\u001b[0m\u001b[0;34m,\u001b[0m\u001b[0;34m\u001b[0m\u001b[0;34m\u001b[0m\u001b[0m\n\u001b[1;32m     85\u001b[0m                         \u001b[0;32mFalse\u001b[0m\u001b[0;34m,\u001b[0m\u001b[0;34m\u001b[0m\u001b[0;34m\u001b[0m\u001b[0m\n\u001b[0;32m---> 86\u001b[0;31m                         \u001b[0mcount\u001b[0m\u001b[0;34m,\u001b[0m\u001b[0;34m\u001b[0m\u001b[0;34m\u001b[0m\u001b[0m\n\u001b[0m\u001b[1;32m     87\u001b[0m                     )\n\u001b[1;32m     88\u001b[0m                     action = self.select_action(\n",
      "\u001b[0;32m~/code/test/DDZ/test for ddz/self_play_test.py\u001b[0m in \u001b[0;36mrun\u001b[0;34m(self, model, observation, legal_actions, to_play, add_exploration_noise, count, override_root_with)\u001b[0m\n\u001b[1;32m    353\u001b[0m                 \u001b[0mreward\u001b[0m\u001b[0;34m,\u001b[0m\u001b[0;34m\u001b[0m\u001b[0;34m\u001b[0m\u001b[0m\n\u001b[1;32m    354\u001b[0m                 \u001b[0mk_policy_logits\u001b[0m\u001b[0;34m,\u001b[0m\u001b[0;34m\u001b[0m\u001b[0;34m\u001b[0m\u001b[0m\n\u001b[0;32m--> 355\u001b[0;31m                 \u001b[0mhidden_state\u001b[0m\u001b[0;34m,\u001b[0m\u001b[0;34m\u001b[0m\u001b[0;34m\u001b[0m\u001b[0m\n\u001b[0m\u001b[1;32m    356\u001b[0m             )\n\u001b[1;32m    357\u001b[0m \u001b[0;34m\u001b[0m\u001b[0m\n",
      "\u001b[0;32m~/code/test/DDZ/test for ddz/self_play_test.py\u001b[0m in \u001b[0;36mexpand\u001b[0;34m(self, actions, to_play, reward, policy_logits, hidden_state)\u001b[0m\n\u001b[1;32m    505\u001b[0m \u001b[0;34m\u001b[0m\u001b[0m\n\u001b[1;32m    506\u001b[0m         policy_values = torch.softmax(\n\u001b[0;32m--> 507\u001b[0;31m             \u001b[0mtorch\u001b[0m\u001b[0;34m.\u001b[0m\u001b[0mtensor\u001b[0m\u001b[0;34m(\u001b[0m\u001b[0;34m[\u001b[0m\u001b[0mpolicy_logits\u001b[0m\u001b[0;34m[\u001b[0m\u001b[0;36m0\u001b[0m\u001b[0;34m]\u001b[0m\u001b[0;34m[\u001b[0m\u001b[0ma\u001b[0m\u001b[0;34m]\u001b[0m \u001b[0;32mfor\u001b[0m \u001b[0ma\u001b[0m \u001b[0;32min\u001b[0m \u001b[0mrange\u001b[0m\u001b[0;34m(\u001b[0m\u001b[0mlen\u001b[0m\u001b[0;34m(\u001b[0m\u001b[0mactions\u001b[0m\u001b[0;34m)\u001b[0m\u001b[0;34m)\u001b[0m\u001b[0;34m]\u001b[0m\u001b[0;34m)\u001b[0m\u001b[0;34m,\u001b[0m \u001b[0mdim\u001b[0m\u001b[0;34m=\u001b[0m\u001b[0;36m0\u001b[0m\u001b[0;34m\u001b[0m\u001b[0;34m\u001b[0m\u001b[0m\n\u001b[0m\u001b[1;32m    508\u001b[0m         ).tolist()\n\u001b[1;32m    509\u001b[0m         \u001b[0mpolicy\u001b[0m \u001b[0;34m=\u001b[0m \u001b[0;34m{\u001b[0m\u001b[0ma\u001b[0m\u001b[0;34m:\u001b[0m \u001b[0mpolicy_values\u001b[0m\u001b[0;34m[\u001b[0m\u001b[0mi\u001b[0m\u001b[0;34m]\u001b[0m \u001b[0;32mfor\u001b[0m \u001b[0mi\u001b[0m\u001b[0;34m,\u001b[0m \u001b[0ma\u001b[0m \u001b[0;32min\u001b[0m \u001b[0menumerate\u001b[0m\u001b[0;34m(\u001b[0m\u001b[0mactions\u001b[0m\u001b[0;34m)\u001b[0m\u001b[0;34m}\u001b[0m\u001b[0;34m\u001b[0m\u001b[0;34m\u001b[0m\u001b[0m\n",
      "\u001b[0;31mKeyboardInterrupt\u001b[0m: "
     ]
    }
   ],
   "source": [
    "def setup_seed(seed):\n",
    "     torch.manual_seed(seed)\n",
    "#      torch.cuda.manual_seed_all(seed)\n",
    "     numpy.random.seed(seed)\n",
    "#      torch.backends.cudnn.deterministic = True\n",
    "\n",
    "landlord_paths = '/home/yg/code/Muzero//muzero/results/test_ddz/new/model0.checkpoint'\n",
    "farmer0_paths = '/home/yg/code/Muzero/muzero/results/test_ddz/new/model1.checkpoint'\n",
    "farmer1_paths = '/home/yg/code/Muzero/muzero/results/test_ddz/new/model2.checkpoint'\n",
    "new_model = [landlord_paths, farmer0_paths, farmer1_paths]\n",
    "\n",
    "landlord_paths_o = '/home/yg/code/Muzero//muzero/results/test_ddz/old/model0.checkpoint'\n",
    "farmer0_paths_o = '/home/yg/code/Muzero/muzero/results/test_ddz/old/model1.checkpoint'\n",
    "farmer1_paths_o = '/home/yg/code/Muzero/muzero/results/test_ddz/old/model2.checkpoint'\n",
    "old_model = [landlord_paths_o, farmer0_paths_o, farmer1_paths_o]\n",
    "order = [[new_model[0],new_model[1],new_model[2]],[new_model[0],old_model[1],old_model[2]],\n",
    "         [old_model[0],new_model[1],new_model[2]],[old_model[0],old_model[1],old_model[2]]]\n",
    "\n",
    "four_res = []\n",
    "for i in range(len(order)):\n",
    "    models_paths = order[i]\n",
    "\n",
    "# models_paths = [landlord_paths,farmer0_paths,farmer1_paths]\n",
    "# map_location = torch.device('cpu')\n",
    "    for i in range(3):\n",
    "        model_path = pathlib.Path(models_paths[i])\n",
    "        model_checkpoint = torch.load(model_path, map_location = torch.device('cpu'))\n",
    "        agents[i].set_weights(model_checkpoint['weights'])\n",
    "        \n",
    "    seed = 42\n",
    "    setup_seed(seed)\n",
    "    num_test = 100\n",
    "    env = ddz.Game(seed)\n",
    "    env.set_agents(agents)\n",
    "    \n",
    "    self_play_worker = self_play_test.SelfPlayTest(env, config, configs, seed, agents)\n",
    "\n",
    "    results = []\n",
    "    for i in range(num_test):\n",
    "        start_time = time.time()\n",
    "        results.append(\n",
    "                self_play_worker.play_game(\n",
    "                    0,\n",
    "                    0,\n",
    "                    False,\n",
    "                    \"self\",\n",
    "                    0,\n",
    "                )\n",
    "        )\n",
    "        end_time = time.time()\n",
    "        print('time',end_time-start_time, i)\n",
    "    \n",
    "    res_last = []\n",
    "    result = [[],[],[]]\n",
    "    for game_historys in results:\n",
    "        for i in range(3):\n",
    "            result[i].append(\n",
    "                sum(\n",
    "                    reward\n",
    "                    for k, reward in enumerate(game_historys[i].reward_history)\n",
    "                )\n",
    "            )\n",
    "    for i in range(3):\n",
    "        res_last.append(numpy.mean(result[i]))\n",
    "    print(res_last)\n",
    "    four_res.append(res_last)"
   ]
  },
  {
   "cell_type": "code",
   "execution_count": null,
   "id": "11771f9d",
   "metadata": {},
   "outputs": [],
   "source": []
  }
 ],
 "metadata": {
  "kernelspec": {
   "display_name": "Python [conda env:muzero]",
   "language": "python",
   "name": "conda-env-muzero-py"
  },
  "language_info": {
   "codemirror_mode": {
    "name": "ipython",
    "version": 3
   },
   "file_extension": ".py",
   "mimetype": "text/x-python",
   "name": "python",
   "nbconvert_exporter": "python",
   "pygments_lexer": "ipython3",
   "version": "3.7.13"
  },
  "toc": {
   "base_numbering": 1,
   "nav_menu": {},
   "number_sections": true,
   "sideBar": true,
   "skip_h1_title": false,
   "title_cell": "Table of Contents",
   "title_sidebar": "Contents",
   "toc_cell": false,
   "toc_position": {},
   "toc_section_display": true,
   "toc_window_display": false
  }
 },
 "nbformat": 4,
 "nbformat_minor": 5
}
