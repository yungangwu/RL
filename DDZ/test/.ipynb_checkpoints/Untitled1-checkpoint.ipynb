{
 "cells": [
  {
   "cell_type": "code",
   "execution_count": 1,
   "id": "f4afaca9",
   "metadata": {},
   "outputs": [
    {
     "name": "stdout",
     "output_type": "stream",
     "text": [
      "\u001b[33mWARNING: The directory '/home/yg/.cache/pip' or its parent directory is not owned or is not writable by the current user. The cache has been disabled. Check the permissions and owner of that directory. If executing pip with sudo, you may want sudo's -H flag.\u001b[0m\n",
      "Looking in indexes: https://pypi.tuna.tsinghua.edu.cn/simple\n",
      "Collecting rlcard\n",
      "  Downloading https://pypi.tuna.tsinghua.edu.cn/packages/d6/21/2f9da36cabb4df1c062ddc56cf2529052a073b24d7a91ea7ea740bd3bb06/rlcard-1.0.8.tar.gz (262 kB)\n",
      "\u001b[K     |████████████████████████████████| 262 kB 846 kB/s eta 0:00:01\n",
      "\u001b[?25hRequirement already satisfied: numpy>=1.16.3 in /home/yg/anaconda3/envs/muzero1/lib/python3.8/site-packages (from rlcard) (1.20.1)\n",
      "Requirement already satisfied: termcolor in /home/yg/anaconda3/envs/muzero1/lib/python3.8/site-packages (from rlcard) (1.1.0)\n",
      "Building wheels for collected packages: rlcard\n",
      "  Building wheel for rlcard (setup.py) ... \u001b[?25ldone\n",
      "\u001b[?25h  Created wheel for rlcard: filename=rlcard-1.0.8-py3-none-any.whl size=319520 sha256=1759e16ab775b585ed1f8857e5cd2617a0dd58ffdee5a36b53c0125c4c615ed5\n",
      "  Stored in directory: /tmp/pip-ephem-wheel-cache-5z63rxqx/wheels/78/4e/61/c6e950d143530acacf9db7b377f1af91623c029acd960a2362\n",
      "Successfully built rlcard\n",
      "Installing collected packages: rlcard\n",
      "Successfully installed rlcard-1.0.8\n",
      "Note: you may need to restart the kernel to use updated packages.\n"
     ]
    }
   ],
   "source": [
    "pip install rlcard"
   ]
  },
  {
   "cell_type": "code",
   "execution_count": 2,
   "id": "58257d49",
   "metadata": {},
   "outputs": [
    {
     "name": "stderr",
     "output_type": "stream",
     "text": [
      "usage: Random example in RLCard [-h]\n",
      "                                [--env {blackjack,leduc-holdem,limit-holdem,doudizhu,mahjong,no-limit-holdem,uno,gin-rummy,bridge}]\n",
      "Random example in RLCard: error: unrecognized arguments: -f /home/yg/.local/share/jupyter/runtime/kernel-665b1d2d-df91-4a60-9541-0c76c68e357e.json\n"
     ]
    },
    {
     "ename": "SystemExit",
     "evalue": "2",
     "output_type": "error",
     "traceback": [
      "An exception has occurred, use %tb to see the full traceback.\n",
      "\u001b[0;31mSystemExit\u001b[0m\u001b[0;31m:\u001b[0m 2\n"
     ]
    },
    {
     "name": "stderr",
     "output_type": "stream",
     "text": [
      "/home/yg/anaconda3/envs/muzero1/lib/python3.8/site-packages/IPython/core/interactiveshell.py:3445: UserWarning: To exit: use 'exit', 'quit', or Ctrl-D.\n",
      "  warn(\"To exit: use 'exit', 'quit', or Ctrl-D.\", stacklevel=1)\n"
     ]
    }
   ],
   "source": [
    "import argparse\n",
    "import pprint\n",
    "\n",
    "import rlcard\n",
    "from rlcard.agents import RandomAgent\n",
    "from rlcard.utils import set_seed\n",
    "\n",
    "def run(args):\n",
    "    # Make environment\n",
    "    env = rlcard.make(\n",
    "        args.env,\n",
    "        config={\n",
    "            'seed': 42,\n",
    "        }\n",
    "    )\n",
    "\n",
    "    # Seed numpy, torch, random\n",
    "    set_seed(42)\n",
    "\n",
    "    # Set agents\n",
    "    agent = RandomAgent(num_actions=env.num_actions)\n",
    "    env.set_agents([agent for _ in range(env.num_players)])\n",
    "\n",
    "    # Generate data from the environment\n",
    "    trajectories, player_wins = env.run(is_training=False)\n",
    "    # Print out the trajectories\n",
    "    print('\\nTrajectories:')\n",
    "    print(trajectories)\n",
    "    print('\\nSample raw observation:')\n",
    "    pprint.pprint(trajectories[0][0]['raw_obs'])\n",
    "    print('\\nSample raw legal_actions:')\n",
    "    pprint.pprint(trajectories[0][0]['raw_legal_actions'])\n",
    "\n",
    "if __name__ == '__main__':\n",
    "    parser = argparse.ArgumentParser(\"Random example in RLCard\")\n",
    "    parser.add_argument(\n",
    "        '--env',\n",
    "        type=str,\n",
    "        default='doudizhu',\n",
    "        choices=[\n",
    "            'blackjack',\n",
    "            'leduc-holdem',\n",
    "            'limit-holdem',\n",
    "            'doudizhu',\n",
    "            'mahjong',\n",
    "            'no-limit-holdem',\n",
    "            'uno',\n",
    "            'gin-rummy',\n",
    "            'bridge',\n",
    "        ],\n",
    "    )\n",
    "\n",
    "    args = parser.parse_args()\n",
    "\n",
    "    run(args)"
   ]
  },
  {
   "cell_type": "code",
   "execution_count": null,
   "id": "3a5c3ff2",
   "metadata": {},
   "outputs": [],
   "source": []
  }
 ],
 "metadata": {
  "kernelspec": {
   "display_name": "Python [conda env:muzero1]",
   "language": "python",
   "name": "conda-env-muzero1-py"
  },
  "language_info": {
   "codemirror_mode": {
    "name": "ipython",
    "version": 3
   },
   "file_extension": ".py",
   "mimetype": "text/x-python",
   "name": "python",
   "nbconvert_exporter": "python",
   "pygments_lexer": "ipython3",
   "version": "3.8.8"
  },
  "toc": {
   "base_numbering": 1,
   "nav_menu": {},
   "number_sections": true,
   "sideBar": true,
   "skip_h1_title": false,
   "title_cell": "Table of Contents",
   "title_sidebar": "Contents",
   "toc_cell": false,
   "toc_position": {},
   "toc_section_display": true,
   "toc_window_display": false
  }
 },
 "nbformat": 4,
 "nbformat_minor": 5
}
